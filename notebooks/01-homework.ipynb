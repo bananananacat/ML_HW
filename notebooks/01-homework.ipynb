{
  "nbformat": 4,
  "nbformat_minor": 0,
  "metadata": {
    "colab": {
      "provenance": []
    },
    "kernelspec": {
      "name": "python3",
      "display_name": "Python 3"
    },
    "language_info": {
      "name": "python"
    }
  },
  "cells": [
    {
      "cell_type": "markdown",
      "source": [
        "Задание 1(Easy)"
      ],
      "metadata": {
        "id": "9JOX9U_UmOsv"
      }
    },
    {
      "cell_type": "code",
      "source": [
        "def func(list):\n",
        "    if (len(list) == 0):\n",
        "        return None\n",
        "    dt_cnt = {}\n",
        "    ans = {}\n",
        "    summ = sum(list)\n",
        "    avg = summ / len(list)\n",
        "    ans[\"mean\"] = avg\n",
        "    sl = sorted(list)\n",
        "    mid = len(list)//2\n",
        "    if (len(sl) % 2 == 1) :\n",
        "        ans[\"median\"] = sl[mid]\n",
        "    else:\n",
        "        ans[\"median\"] = (sl[mid - 1] + sl[mid]) / 2\n",
        "    for i in range(len(list)):\n",
        "        dt_cnt[list[i]] = dt_cnt.get(list[i], 0) + 1\n",
        "    md = 0\n",
        "    max_val = 0\n",
        "    for i in range(len(list)):\n",
        "        if (dt_cnt.get(list[i], 0) >= max_val):\n",
        "            md = list[i]\n",
        "            max_val = dt_cnt.get(list[i], 0)\n",
        "    ans[\"mode\"] = md\n",
        "    return ans\n",
        "#lst = [0, 1, 1, 10, 5, 4, 3]\n",
        "#lst = [10, 9, 9, 2, 7, 4]\n",
        "#print(func(lst), end=\"\\n\")"
      ],
      "metadata": {
        "id": "YZME1EzTmQRv"
      },
      "execution_count": 1,
      "outputs": []
    },
    {
      "cell_type": "markdown",
      "source": [
        "Задание 2(Medium)"
      ],
      "metadata": {
        "id": "aLnSV2zWtD-U"
      }
    },
    {
      "cell_type": "code",
      "source": [
        "def parse_csv(file_content: str) -> list[dict]:\n",
        "    rows = file_content.split('\\n')[:-1]\n",
        "    heroes_stats_names = rows[0].split(',')[1:]\n",
        "    heroes_stats_count = len(heroes_stats_names)\n",
        "    heroes_stats_lists = map(lambda row: row.split(',', maxsplit=7)[1:], rows[1:])\n",
        "\n",
        "    heroes_stats_dicts = list(map(lambda hero_stats:\n",
        "        {heroes_stats_names[i]: hero_stats[i] for i in range(heroes_stats_count)},\n",
        "    heroes_stats_lists))\n",
        "    for hero_stats in heroes_stats_dicts:\n",
        "        #парсим роль без лишних знаков препинания\n",
        "        hero_stats['roles'] = hero_stats['roles'][2:-2].split(\", \")\n",
        "        hero_stats['roles'] = list(map(lambda role: role[1:-1], hero_stats['roles']))\n",
        "    return heroes_stats_dicts\n",
        "\n",
        "def find_max_legs_hero(content: list[dict]) -> dict:\n",
        "    return max(content, key=lambda hero_stats: int(hero_stats['legs']))"
      ],
      "metadata": {
        "id": "j6eUbfA-tOoM"
      },
      "execution_count": 2,
      "outputs": []
    },
    {
      "cell_type": "markdown",
      "source": [
        "Тестируем"
      ],
      "metadata": {
        "id": "3kVmka0SnZVs"
      }
    },
    {
      "cell_type": "code",
      "source": [
        "with open('dota_hero_stats.csv', 'r') as heroes_stats_file:\n",
        "    stats = parse_csv(heroes_stats_file.read())\n",
        "    print(find_max_legs_hero(stats))"
      ],
      "metadata": {
        "colab": {
          "base_uri": "https://localhost:8080/"
        },
        "id": "OW3ZwbWrbjeQ",
        "outputId": "44056bab-94c5-4ac4-df55-21e98f5be4b6"
      },
      "execution_count": 3,
      "outputs": [
        {
          "output_type": "stream",
          "name": "stdout",
          "text": [
            "{'attack_type': 'Melee', 'id': '61', 'legs': '8', 'localized_name': 'Broodmother', 'name': 'npc_dota_hero_broodmother', 'primary_attr': 'agi', 'roles': ['Carry', 'Pusher', 'Escape', 'Nuker']}\n"
          ]
        }
      ]
    },
    {
      "cell_type": "code",
      "source": [],
      "metadata": {
        "id": "QgxB-TkfrMQQ"
      },
      "execution_count": 3,
      "outputs": []
    }
  ]
}