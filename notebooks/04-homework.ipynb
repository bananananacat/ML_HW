{
 "cells": [
  {
   "cell_type": "markdown",
   "id": "3548c8d3-c7b8-48f6-8338-4dca29e4ed8c",
   "metadata": {},
   "source": [
    "1.(Easy)"
   ]
  },
  {
   "cell_type": "markdown",
   "id": "2752ef87-7274-456e-886f-a5042590808c",
   "metadata": {},
   "source": [
    "Импортим библиотеки"
   ]
  },
  {
   "cell_type": "code",
   "execution_count": 1,
   "id": "b93e1b35-6190-4055-9184-8c55fe904aaa",
   "metadata": {},
   "outputs": [],
   "source": [
    "import numpy as np\n",
    "import pandas as pd\n",
    "from sklearn.metrics import r2_score\n",
    "from sklearn.tree import DecisionTreeRegressor, plot_tree\n",
    "from sklearn.model_selection import train_test_split"
   ]
  },
  {
   "cell_type": "markdown",
   "id": "d73c76c8-e382-474e-a56d-503662851bd7",
   "metadata": {},
   "source": [
    "Обучим модель DecisionTreeRegressor(), берем модель машины 'audi':"
   ]
  },
  {
   "cell_type": "code",
   "execution_count": 2,
   "id": "529cd73d-a40a-4147-9d17-042c3b2c4702",
   "metadata": {},
   "outputs": [
    {
     "name": "stdout",
     "output_type": "stream",
     "text": [
      "r2_score: 0.917517259387678\n"
     ]
    }
   ],
   "source": [
    "df1 = pd.read_csv('archive (2)/audi.csv')\n",
    "x_train, x_test, y_train, y_test = train_test_split(df1[['year', 'mileage', 'tax', 'mpg', 'engineSize']], df1['price'],  train_size = 0.8, random_state=42)\n",
    "model = DecisionTreeRegressor()\n",
    "model.fit(x_train, y_train)\n",
    "prediction = model.predict(x_test)\n",
    "r2_sc = r2_score(prediction, y_test)\n",
    "print(\"r2_score:\", r2_sc)"
   ]
  },
  {
   "cell_type": "code",
   "execution_count": 3,
   "id": "e69857e8-ad71-4411-aae2-8b8c45c14cc1",
   "metadata": {},
   "outputs": [
    {
     "name": "stdout",
     "output_type": "stream",
     "text": [
      "[0.24097458 0.0659256  0.03974242 0.46176101 0.19159638]\n"
     ]
    }
   ],
   "source": [
    "importances = model.feature_importances_\n",
    "print(importances)"
   ]
  },
  {
   "cell_type": "markdown",
   "id": "fd0ee0a7-10c7-4580-9f94-34593aa89e53",
   "metadata": {},
   "source": [
    "Из этого можно сделать вывод: для моделей audi самым важным признаком при формировании цены является 'mpg' (удельный расход топлива), а наименее важными - 'mileage'(пробег) и 'tax'(налог)."
   ]
  },
  {
   "cell_type": "markdown",
   "id": "f1e8adc2-92cf-4911-af3c-9cacaa903f17",
   "metadata": {},
   "source": [
    "2.(Normal)"
   ]
  },
  {
   "cell_type": "markdown",
   "id": "33024f46-75ee-4db0-b73e-8a342f2e0d87",
   "metadata": {},
   "source": [
    "Объединим файлы в один DataFrame:"
   ]
  },
  {
   "cell_type": "code",
   "execution_count": 4,
   "id": "0921cb26-7a7d-453b-979d-1530160a015b",
   "metadata": {},
   "outputs": [
    {
     "data": {
      "text/html": [
       "<div>\n",
       "<style scoped>\n",
       "    .dataframe tbody tr th:only-of-type {\n",
       "        vertical-align: middle;\n",
       "    }\n",
       "\n",
       "    .dataframe tbody tr th {\n",
       "        vertical-align: top;\n",
       "    }\n",
       "\n",
       "    .dataframe thead th {\n",
       "        text-align: right;\n",
       "    }\n",
       "</style>\n",
       "<table border=\"1\" class=\"dataframe\">\n",
       "  <thead>\n",
       "    <tr style=\"text-align: right;\">\n",
       "      <th></th>\n",
       "      <th>price</th>\n",
       "      <th>year</th>\n",
       "      <th>model</th>\n",
       "      <th>transmission</th>\n",
       "      <th>mileage</th>\n",
       "      <th>engineSize</th>\n",
       "      <th>fuelType</th>\n",
       "    </tr>\n",
       "  </thead>\n",
       "  <tbody>\n",
       "    <tr>\n",
       "      <th>0</th>\n",
       "      <td>8000</td>\n",
       "      <td>2016</td>\n",
       "      <td>Focus</td>\n",
       "      <td>Manual</td>\n",
       "      <td>38852</td>\n",
       "      <td>1.0</td>\n",
       "      <td>Petrol</td>\n",
       "    </tr>\n",
       "    <tr>\n",
       "      <th>1</th>\n",
       "      <td>13400</td>\n",
       "      <td>2019</td>\n",
       "      <td>Focus</td>\n",
       "      <td>Manual</td>\n",
       "      <td>11952</td>\n",
       "      <td>1.0</td>\n",
       "      <td>Petrol</td>\n",
       "    </tr>\n",
       "    <tr>\n",
       "      <th>2</th>\n",
       "      <td>14600</td>\n",
       "      <td>2019</td>\n",
       "      <td>Focus</td>\n",
       "      <td>Manual</td>\n",
       "      <td>22142</td>\n",
       "      <td>1.5</td>\n",
       "      <td>Petrol</td>\n",
       "    </tr>\n",
       "    <tr>\n",
       "      <th>3</th>\n",
       "      <td>9450</td>\n",
       "      <td>2016</td>\n",
       "      <td>Focus</td>\n",
       "      <td>Manual</td>\n",
       "      <td>14549</td>\n",
       "      <td>1.6</td>\n",
       "      <td>Diesel</td>\n",
       "    </tr>\n",
       "    <tr>\n",
       "      <th>4</th>\n",
       "      <td>9999</td>\n",
       "      <td>2015</td>\n",
       "      <td>Focus</td>\n",
       "      <td>Manual</td>\n",
       "      <td>7010</td>\n",
       "      <td>1.6</td>\n",
       "      <td>Diesel</td>\n",
       "    </tr>\n",
       "    <tr>\n",
       "      <th>...</th>\n",
       "      <td>...</td>\n",
       "      <td>...</td>\n",
       "      <td>...</td>\n",
       "      <td>...</td>\n",
       "      <td>...</td>\n",
       "      <td>...</td>\n",
       "      <td>...</td>\n",
       "    </tr>\n",
       "    <tr>\n",
       "      <th>4855</th>\n",
       "      <td>8680</td>\n",
       "      <td>2016</td>\n",
       "      <td>I30</td>\n",
       "      <td>Manual</td>\n",
       "      <td>25906</td>\n",
       "      <td>1.6</td>\n",
       "      <td>Diesel</td>\n",
       "    </tr>\n",
       "    <tr>\n",
       "      <th>4856</th>\n",
       "      <td>7830</td>\n",
       "      <td>2015</td>\n",
       "      <td>I40</td>\n",
       "      <td>Manual</td>\n",
       "      <td>59508</td>\n",
       "      <td>1.7</td>\n",
       "      <td>Diesel</td>\n",
       "    </tr>\n",
       "    <tr>\n",
       "      <th>4857</th>\n",
       "      <td>6830</td>\n",
       "      <td>2017</td>\n",
       "      <td>I10</td>\n",
       "      <td>Manual</td>\n",
       "      <td>13810</td>\n",
       "      <td>1.0</td>\n",
       "      <td>Petrol</td>\n",
       "    </tr>\n",
       "    <tr>\n",
       "      <th>4858</th>\n",
       "      <td>13994</td>\n",
       "      <td>2018</td>\n",
       "      <td>Tucson</td>\n",
       "      <td>Manual</td>\n",
       "      <td>23313</td>\n",
       "      <td>1.6</td>\n",
       "      <td>Petrol</td>\n",
       "    </tr>\n",
       "    <tr>\n",
       "      <th>4859</th>\n",
       "      <td>15999</td>\n",
       "      <td>2016</td>\n",
       "      <td>Tucson</td>\n",
       "      <td>Automatic</td>\n",
       "      <td>11472</td>\n",
       "      <td>1.7</td>\n",
       "      <td>Diesel</td>\n",
       "    </tr>\n",
       "  </tbody>\n",
       "</table>\n",
       "<p>108540 rows × 7 columns</p>\n",
       "</div>"
      ],
      "text/plain": [
       "      price  year    model transmission  mileage  engineSize fuelType\n",
       "0      8000  2016    Focus       Manual    38852         1.0   Petrol\n",
       "1     13400  2019    Focus       Manual    11952         1.0   Petrol\n",
       "2     14600  2019    Focus       Manual    22142         1.5   Petrol\n",
       "3      9450  2016    Focus       Manual    14549         1.6   Diesel\n",
       "4      9999  2015    Focus       Manual     7010         1.6   Diesel\n",
       "...     ...   ...      ...          ...      ...         ...      ...\n",
       "4855   8680  2016      I30       Manual    25906         1.6   Diesel\n",
       "4856   7830  2015      I40       Manual    59508         1.7   Diesel\n",
       "4857   6830  2017      I10       Manual    13810         1.0   Petrol\n",
       "4858  13994  2018   Tucson       Manual    23313         1.6   Petrol\n",
       "4859  15999  2016   Tucson    Automatic    11472         1.7   Diesel\n",
       "\n",
       "[108540 rows x 7 columns]"
      ]
     },
     "execution_count": 4,
     "metadata": {},
     "output_type": "execute_result"
    }
   ],
   "source": [
    "import os\n",
    "path = 'archive (2)/'\n",
    "models = os.listdir(path)\n",
    "models.remove('unclean focus.csv')\n",
    "models.remove('unclean cclass.csv')\n",
    "csv_models = [file for file in models if file.endswith('.csv')]\n",
    "headers = set()\n",
    "for file in csv_models:\n",
    "    df = pd.read_csv(os.path.join(path, file))\n",
    "    if not headers:\n",
    "        headers = set(df.columns.values)\n",
    "    else:\n",
    "        headers &= set(df.columns.values)\n",
    "merged_df = pd.DataFrame()\n",
    "for file in csv_models:\n",
    "    df = pd.read_csv(os.path.join(path, file))\n",
    "    common_columns = list(headers.intersection(df.columns))\n",
    "    merged_df = pd.concat([merged_df, df[common_columns]])\n",
    "merged_df"
   ]
  },
  {
   "cell_type": "markdown",
   "id": "dc795a33-060f-4ea7-9414-f1cab1157633",
   "metadata": {},
   "source": [
    "Преобразуем категориальные признаки в числовые. Посмотрим, для начала, какие значения находятся в категориальных признаках:"
   ]
  },
  {
   "cell_type": "code",
   "execution_count": 5,
   "id": "df08e00f-61a0-4251-a1c1-b32079e7fdd1",
   "metadata": {},
   "outputs": [
    {
     "name": "stdout",
     "output_type": "stream",
     "text": [
      "unique_transmission ['Manual' 'Automatic' 'Semi-Auto' 'Other']\n",
      "unique_fuel_type ['Petrol' 'Diesel' 'Hybrid' 'Electric' 'Other']\n",
      "models count:  195\n",
      "unique_model_names [' Focus' ' Fiesta' ' Puma' ' Kuga' ' EcoSport' ' C-MAX' ' Mondeo' ' Ka+'\n",
      " ' Tourneo Custom' ' S-MAX' ' B-MAX' ' Edge' ' Tourneo Connect'\n",
      " ' Grand C-MAX' ' KA' ' Galaxy' ' Mustang' ' Grand Tourneo Connect'\n",
      " ' Fusion' ' Ranger' ' Streetka' ' Escort' ' Transit Tourneo' ' A1' ' A6'\n",
      " ' A4' ' A3' ' Q3' ' Q5' ' A5' ' S4' ' Q2' ' A7' ' TT' ' Q7' ' RS6' ' RS3'\n",
      " ' A8' ' Q8' ' RS4' ' RS5' ' R8' ' SQ5' ' S8' ' SQ7' ' S3' ' S5' ' A2'\n",
      " ' RS7' ' C Class' ' 5 Series' ' 6 Series' ' 1 Series' ' 7 Series'\n",
      " ' 2 Series' ' 4 Series' ' X3' ' 3 Series' ' X5' ' X4' ' i3' ' X1' ' M4'\n",
      " ' X2' ' X6' ' 8 Series' ' Z4' ' X7' ' M5' ' i8' ' M2' ' M3' ' M6' ' Z3'\n",
      " ' SLK' ' S Class' ' SL CLASS' ' G Class' ' GLE Class' ' GLA Class'\n",
      " ' A Class' ' B Class' ' GLC Class' ' E Class' ' GL Class' ' CLS Class'\n",
      " ' CLC Class' ' CLA Class' ' V Class' ' M Class' ' CL Class' ' GLS Class'\n",
      " ' GLB Class' ' X-CLASS' '180' ' CLK' ' R Class' '230' '220' '200' ' GT86'\n",
      " ' Corolla' ' RAV4' ' Yaris' ' Auris' ' Aygo' ' C-HR' ' Prius' ' Avensis'\n",
      " ' Verso' ' Hilux' ' PROACE VERSO' ' Land Cruiser' ' Supra' ' Camry'\n",
      " ' Verso-S' ' IQ' ' Urban Cruiser' ' T-Roc' ' Golf' ' Passat' ' T-Cross'\n",
      " ' Polo' ' Tiguan' ' Sharan' ' Up' ' Scirocco' ' Beetle'\n",
      " ' Caddy Maxi Life' ' Caravelle' ' Touareg' ' Arteon' ' Touran' ' Golf SV'\n",
      " ' Amarok' ' Tiguan Allspace' ' Shuttle' ' Jetta' ' CC' ' California'\n",
      " ' Caddy Life' ' Caddy' ' Caddy Maxi' ' Eos' ' Fox' ' Octavia' ' Citigo'\n",
      " ' Yeti Outdoor' ' Superb' ' Kodiaq' ' Rapid' ' Karoq' ' Fabia' ' Yeti'\n",
      " ' Scala' ' Roomster' ' Kamiq' ' Corsa' ' Astra' ' Viva' ' Mokka'\n",
      " ' Mokka X' ' Crossland X' ' Zafira' ' Meriva' ' Zafira Tourer' ' Adam'\n",
      " ' Grandland X' ' Antara' ' Insignia' ' Ampera' ' GTC' ' Combo Life'\n",
      " ' Vivaro' ' Cascada' ' Kadjar' ' Agila' ' Tigra' ' Vectra' ' I20'\n",
      " ' Tucson' ' I10' ' IX35' ' I30' ' I40' ' Ioniq' ' Kona' ' Veloster'\n",
      " ' I800' ' IX20' ' Santa Fe' ' Accent' ' Terracan' ' Getz' ' Amica']\n"
     ]
    }
   ],
   "source": [
    "unique_transmission = merged_df['transmission'].unique()\n",
    "print('unique_transmission', unique_transmission)\n",
    "unique_fuel_type = merged_df['fuelType'].unique()\n",
    "print('unique_fuel_type', unique_fuel_type)\n",
    "unique_model_names = merged_df['model'].unique()\n",
    "cnt = merged_df['model'].nunique()\n",
    "print('models count: ', cnt)\n",
    "print('unique_model_names', unique_model_names)"
   ]
  },
  {
   "cell_type": "markdown",
   "id": "a99af9b6-09bf-4e72-bd6e-b93fb071d0ae",
   "metadata": {},
   "source": [
    "Используем One-Hot Encoding для преобразования категориальных признаков:"
   ]
  },
  {
   "cell_type": "code",
   "execution_count": 6,
   "id": "2c17b149-bbb2-4309-b16b-f743b387bfc3",
   "metadata": {},
   "outputs": [],
   "source": [
    "df_encoded = pd.get_dummies(merged_df, columns=['model', 'transmission', 'fuelType'], prefix=['model', 'transmission', 'fuelType'], drop_first=True)\n"
   ]
  },
  {
   "cell_type": "markdown",
   "id": "7e7b26ef-812a-47b5-8418-80ba64edf814",
   "metadata": {},
   "source": [
    "Подберем лучшие параметры для RandomForestRegressor():"
   ]
  },
  {
   "cell_type": "code",
   "execution_count": 7,
   "id": "50011bc8-a2de-4700-9eed-b748b19db67c",
   "metadata": {},
   "outputs": [
    {
     "name": "stdout",
     "output_type": "stream",
     "text": [
      "Best parameters: {'max_depth': 15, 'min_samples_split': 5, 'n_estimators': 150} \n",
      " Best score: 0.920690116727134\n"
     ]
    }
   ],
   "source": [
    "from sklearn.model_selection import GridSearchCV\n",
    "from sklearn.ensemble import RandomForestRegressor\n",
    "forest = RandomForestRegressor()\n",
    "param_grid = {\n",
    "    'n_estimators': [100, 150],\n",
    "    'max_depth': [5, 10, 15],\n",
    "    'min_samples_split': [5, 10]\n",
    "}\n",
    "grid_search = GridSearchCV(estimator=forest, param_grid=param_grid, cv=5, error_score='raise')\n",
    "df_weights = [col for col in df_encoded.columns if col != 'price']\n",
    "X_train, X_test, Y_train, Y_test = train_test_split(df_encoded[df_weights], df_encoded['price'], train_size = 0.8, random_state=42)\n",
    "grid_search.fit(X_train, Y_train)\n",
    "print(\"Best parameters:\", grid_search.best_params_, '\\n', \"Best score:\", grid_search.best_score_)"
   ]
  },
  {
   "cell_type": "markdown",
   "id": "d0957fcd-c6d1-4410-bc6c-a582c882703d",
   "metadata": {},
   "source": [
    "Вот наилучшие параметры для RandomForestRegressor(). Показатель на метрике r2 оказался при таких гиперпараметрах у случайного леса выше, чем у DecisionTreeRegressor()."
   ]
  }
 ],
 "metadata": {
  "kernelspec": {
   "display_name": "Python 3 (ipykernel)",
   "language": "python",
   "name": "python3"
  },
  "language_info": {
   "codemirror_mode": {
    "name": "ipython",
    "version": 3
   },
   "file_extension": ".py",
   "mimetype": "text/x-python",
   "name": "python",
   "nbconvert_exporter": "python",
   "pygments_lexer": "ipython3",
   "version": "3.8.18"
  }
 },
 "nbformat": 4,
 "nbformat_minor": 5
}
