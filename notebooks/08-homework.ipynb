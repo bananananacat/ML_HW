{
 "cells": [
  {
   "cell_type": "markdown",
   "id": "5249626d-690e-4aed-acef-111df82dc216",
   "metadata": {},
   "source": [
    "1. Easy"
   ]
  },
  {
   "cell_type": "markdown",
   "id": "1aaa852c-c2af-49c6-93cb-2d1e8986cf8a",
   "metadata": {},
   "source": [
    "Импортируем библиотеки:"
   ]
  },
  {
   "cell_type": "code",
   "execution_count": 1,
   "id": "73860118-d4b3-478f-b4ac-cb912b464843",
   "metadata": {},
   "outputs": [],
   "source": [
    "import numpy as np\n",
    "import pandas as pd\n",
    "import matplotlib.pyplot as plt\n",
    "import collections\n",
    "import warnings\n",
    "import string\n",
    "import re\n",
    "\n",
    "from git import Repo\n",
    "\n",
    "import os\n",
    "from os import walk\n",
    "\n",
    "import nltk\n",
    "from nltk.tokenize import word_tokenize\n",
    "from nltk.stem import WordNetLemmatizer\n",
    "from nltk.stem.porter import *\n",
    "from nltk.stem import SnowballStemmer\n",
    "\n",
    "from sklearn.exceptions import DataConversionWarning\n",
    "from sklearn.feature_extraction.text import TfidfVectorizer\n",
    "from sklearn.linear_model import LogisticRegression\n",
    "from sklearn.model_selection import train_test_split\n",
    "from sklearn.metrics import f1_score"
   ]
  },
  {
   "cell_type": "markdown",
   "id": "c976b2b6-b098-47d9-b1c7-847bb876a229",
   "metadata": {},
   "source": [
    "Будем собирать датасет через GitHub. Для начала, возьмем несколько ссылок на репозитории, в которых по большей части лежат файлы с конкретным языком из C++, Python, JavaScript:"
   ]
  },
  {
   "cell_type": "code",
   "execution_count": 5,
   "id": "d8a4d0ba-8542-4659-b864-4dd955d5a1f4",
   "metadata": {},
   "outputs": [],
   "source": [
    "links = {\n",
    "    \"C++\":[\n",
    "        \"https://github.com/adah1972/geek_time_cpp\",\n",
    "        \"https://github.com/AlohaWorld/CppKid\",\n",
    "        \"https://github.com/leovandriel/caffe2_cpp_tutorial\",\n",
    "        \"https://github.com/srcmake/cpp-stl-algorithms\",\n",
    "        \"https://github.com/JamesRaynard/Multithreading-Cpp-Course\",    \n",
    "    ],\n",
    "    \"Python\":[\n",
    "        \"https://github.com/cosmicpython/code\",\n",
    "        \"https://github.com/fluentpython/example-code-2e\",\n",
    "        \"https://github.com/hjwp/book-example\",\n",
    "        \"https://github.com/trekhleb/learn-python\",\n",
    "        \"https://github.com/davidbombal/pythonvideos\",\n",
    "        \"https://github.com/sobolevn/python-code-disasters\",\n",
    "        \"https://github.com/adaptives/python-examples\",\n",
    "    ],\n",
    "    \"JavaScript\":[\n",
    "        \"https://github.com/shama/letswritecode\",\n",
    "        \"https://github.com/mdn/js-examples\",\n",
    "        \"https://github.com/mdn/dom-examples\",\n",
    "        \"https://github.com/bahmutov/javascript-journey\",\n",
    "        \"https://github.com/davidflanagan/jstdg7\",\n",
    "        \"https://github.com/mongodb-developer/mern-stack-example\",\n",
    "    ]\n",
    "}\n",
    "\n",
    "file_endings = {\n",
    "    \"cpp\": \"C++\",\n",
    "    \"hpp\": \"C++\",\n",
    "    \"py\": \"Python\",\n",
    "    \"js\": \"JavaScript\"\n",
    "}"
   ]
  },
  {
   "cell_type": "markdown",
   "id": "7e7f60b5-9fdb-4ac7-897b-6db84ccea77d",
   "metadata": {},
   "source": [
    "Функции клонирования репозиториев и предобработки текста(стемминг и лемматизация):"
   ]
  },
  {
   "cell_type": "code",
   "execution_count": 3,
   "id": "7710611c-ccc2-48d6-bff5-00f1add0df52",
   "metadata": {},
   "outputs": [],
   "source": [
    "def preprocess_text(text):\n",
    "    text = re.sub(r'https?://[^\\s/$.?#].[^\\s]*', '', text)\n",
    "    lst = text.split()\n",
    "    fixed_text = []\n",
    "    for word in lst:\n",
    "        for Mark in string.punctuation:\n",
    "            if Mark != '.':\n",
    "                word = word.replace(Mark, \"\")\n",
    "            else:\n",
    "                word = word.replace(Mark, \" \")\n",
    "        fixed_text.append(word.lower())\n",
    "    s = \" \".join(fixed_text)\n",
    "    return s\n",
    "\n",
    "def applying_lemmatization(text):\n",
    "    text = preprocess_text(text)\n",
    "    lemmatizer = WordNetLemmatizer()\n",
    "    lst = text.split()\n",
    "    lemmatized_lst = [lemmatizer.lemmatize(word) for word in lst]\n",
    "    return \" \".join(lemmatized_lst)\n",
    "\n",
    "def applying_stemming(text):\n",
    "    text = preprocess_text(text)\n",
    "    stemmer = SnowballStemmer('english')\n",
    "    new_text = [stemmer.stem(word) for word in text.split()]\n",
    "    return \" \".join(new_text)\n",
    "\n",
    "def clone(links):\n",
    "    for lang, link in links.items():\n",
    "        for repo_link in link:\n",
    "            repo_name = repo_link.split(\"/\")[-1]\n",
    "            Repo.clone_from(repo_link, f\"cloned_repos/{lang}/{repo_name}\")\n",
    "\n",
    "def creating_dataset(path, files, chunk, data):\n",
    "    for file in files:\n",
    "        if not os.path.isfile(f\"{path}/{file}\"): \n",
    "            continue\n",
    "        else:\n",
    "            end_of_name = file.split(\".\")[-1]\n",
    "            if end_of_name in file_endings.keys():\n",
    "                lang = file_endings[end_of_name]\n",
    "                with open(f\"{path}/{file}\", \"rb\") as f:\n",
    "                    code = f.read().decode('utf-8', errors='ignore')\n",
    "                    for i in range(0, len(code), chunk):\n",
    "                        data.append({\"language\": lang, \"code\": code[i:i+chunk]})\n"
   ]
  },
  {
   "cell_type": "markdown",
   "id": "437a2449-ffa7-4b3e-83d0-75808b560776",
   "metadata": {},
   "source": [
    "Клонируем репозитории:"
   ]
  },
  {
   "cell_type": "code",
   "execution_count": 6,
   "id": "d2356ce6-5570-4078-a7c6-8facddab3290",
   "metadata": {},
   "outputs": [
    {
     "ename": "GitCommandError",
     "evalue": "Cmd('git') failed due to: exit code(128)\n  cmdline: git clone -v -- https://github.com/mdn/dom-examples cloned_repos/JavaScript/dom-examples\n  stderr: 'Cloning into 'cloned_repos/JavaScript/dom-examples'...\nPOST git-upload-pack (175 bytes)\nPOST git-upload-pack (217 bytes)\nerror: RPC failed; curl 92 HTTP/2 stream 0 was not closed cleanly: CANCEL (err 8)\nerror: 6420 bytes of body are still expected\nfetch-pack: unexpected disconnect while reading sideband packet\nfatal: early EOF\nfatal: fetch-pack: invalid index-pack output\n'",
     "output_type": "error",
     "traceback": [
      "\u001b[0;31m---------------------------------------------------------------------------\u001b[0m",
      "\u001b[0;31mGitCommandError\u001b[0m                           Traceback (most recent call last)",
      "Cell \u001b[0;32mIn[6], line 1\u001b[0m\n\u001b[0;32m----> 1\u001b[0m \u001b[43mclone\u001b[49m\u001b[43m(\u001b[49m\u001b[43mlinks\u001b[49m\u001b[43m)\u001b[49m\n",
      "Cell \u001b[0;32mIn[3], line 32\u001b[0m, in \u001b[0;36mclone\u001b[0;34m(links)\u001b[0m\n\u001b[1;32m     30\u001b[0m \u001b[38;5;28;01mfor\u001b[39;00m repo_link \u001b[38;5;129;01min\u001b[39;00m link:\n\u001b[1;32m     31\u001b[0m     repo_name \u001b[38;5;241m=\u001b[39m repo_link\u001b[38;5;241m.\u001b[39msplit(\u001b[38;5;124m\"\u001b[39m\u001b[38;5;124m/\u001b[39m\u001b[38;5;124m\"\u001b[39m)[\u001b[38;5;241m-\u001b[39m\u001b[38;5;241m1\u001b[39m]\n\u001b[0;32m---> 32\u001b[0m     \u001b[43mRepo\u001b[49m\u001b[38;5;241;43m.\u001b[39;49m\u001b[43mclone_from\u001b[49m\u001b[43m(\u001b[49m\u001b[43mrepo_link\u001b[49m\u001b[43m,\u001b[49m\u001b[43m \u001b[49m\u001b[38;5;124;43mf\u001b[39;49m\u001b[38;5;124;43m\"\u001b[39;49m\u001b[38;5;124;43mcloned_repos/\u001b[39;49m\u001b[38;5;132;43;01m{\u001b[39;49;00m\u001b[43mlang\u001b[49m\u001b[38;5;132;43;01m}\u001b[39;49;00m\u001b[38;5;124;43m/\u001b[39;49m\u001b[38;5;132;43;01m{\u001b[39;49;00m\u001b[43mrepo_name\u001b[49m\u001b[38;5;132;43;01m}\u001b[39;49;00m\u001b[38;5;124;43m\"\u001b[39;49m\u001b[43m)\u001b[49m\n",
      "File \u001b[0;32m~/anaconda3/envs/my-environment/lib/python3.8/site-packages/git/repo/base.py:1525\u001b[0m, in \u001b[0;36mRepo.clone_from\u001b[0;34m(cls, url, to_path, progress, env, multi_options, allow_unsafe_protocols, allow_unsafe_options, **kwargs)\u001b[0m\n\u001b[1;32m   1523\u001b[0m \u001b[38;5;28;01mif\u001b[39;00m env \u001b[38;5;129;01mis\u001b[39;00m \u001b[38;5;129;01mnot\u001b[39;00m \u001b[38;5;28;01mNone\u001b[39;00m:\n\u001b[1;32m   1524\u001b[0m     git\u001b[38;5;241m.\u001b[39mupdate_environment(\u001b[38;5;241m*\u001b[39m\u001b[38;5;241m*\u001b[39menv)\n\u001b[0;32m-> 1525\u001b[0m \u001b[38;5;28;01mreturn\u001b[39;00m \u001b[38;5;28;43mcls\u001b[39;49m\u001b[38;5;241;43m.\u001b[39;49m\u001b[43m_clone\u001b[49m\u001b[43m(\u001b[49m\n\u001b[1;32m   1526\u001b[0m \u001b[43m    \u001b[49m\u001b[43mgit\u001b[49m\u001b[43m,\u001b[49m\n\u001b[1;32m   1527\u001b[0m \u001b[43m    \u001b[49m\u001b[43murl\u001b[49m\u001b[43m,\u001b[49m\n\u001b[1;32m   1528\u001b[0m \u001b[43m    \u001b[49m\u001b[43mto_path\u001b[49m\u001b[43m,\u001b[49m\n\u001b[1;32m   1529\u001b[0m \u001b[43m    \u001b[49m\u001b[43mGitCmdObjectDB\u001b[49m\u001b[43m,\u001b[49m\n\u001b[1;32m   1530\u001b[0m \u001b[43m    \u001b[49m\u001b[43mprogress\u001b[49m\u001b[43m,\u001b[49m\n\u001b[1;32m   1531\u001b[0m \u001b[43m    \u001b[49m\u001b[43mmulti_options\u001b[49m\u001b[43m,\u001b[49m\n\u001b[1;32m   1532\u001b[0m \u001b[43m    \u001b[49m\u001b[43mallow_unsafe_protocols\u001b[49m\u001b[38;5;241;43m=\u001b[39;49m\u001b[43mallow_unsafe_protocols\u001b[49m\u001b[43m,\u001b[49m\n\u001b[1;32m   1533\u001b[0m \u001b[43m    \u001b[49m\u001b[43mallow_unsafe_options\u001b[49m\u001b[38;5;241;43m=\u001b[39;49m\u001b[43mallow_unsafe_options\u001b[49m\u001b[43m,\u001b[49m\n\u001b[1;32m   1534\u001b[0m \u001b[43m    \u001b[49m\u001b[38;5;241;43m*\u001b[39;49m\u001b[38;5;241;43m*\u001b[39;49m\u001b[43mkwargs\u001b[49m\u001b[43m,\u001b[49m\n\u001b[1;32m   1535\u001b[0m \u001b[43m\u001b[49m\u001b[43m)\u001b[49m\n",
      "File \u001b[0;32m~/anaconda3/envs/my-environment/lib/python3.8/site-packages/git/repo/base.py:1396\u001b[0m, in \u001b[0;36mRepo._clone\u001b[0;34m(cls, git, url, path, odb_default_type, progress, multi_options, allow_unsafe_protocols, allow_unsafe_options, **kwargs)\u001b[0m\n\u001b[1;32m   1393\u001b[0m     cmdline \u001b[38;5;241m=\u001b[39m remove_password_if_present(cmdline)\n\u001b[1;32m   1395\u001b[0m     _logger\u001b[38;5;241m.\u001b[39mdebug(\u001b[38;5;124m\"\u001b[39m\u001b[38;5;124mCmd(\u001b[39m\u001b[38;5;132;01m%s\u001b[39;00m\u001b[38;5;124m)\u001b[39m\u001b[38;5;124m'\u001b[39m\u001b[38;5;124ms unused stdout: \u001b[39m\u001b[38;5;132;01m%s\u001b[39;00m\u001b[38;5;124m\"\u001b[39m, cmdline, stdout)\n\u001b[0;32m-> 1396\u001b[0m     \u001b[43mfinalize_process\u001b[49m\u001b[43m(\u001b[49m\u001b[43mproc\u001b[49m\u001b[43m,\u001b[49m\u001b[43m \u001b[49m\u001b[43mstderr\u001b[49m\u001b[38;5;241;43m=\u001b[39;49m\u001b[43mstderr\u001b[49m\u001b[43m)\u001b[49m\n\u001b[1;32m   1398\u001b[0m \u001b[38;5;66;03m# Our git command could have a different working dir than our actual\u001b[39;00m\n\u001b[1;32m   1399\u001b[0m \u001b[38;5;66;03m# environment, hence we prepend its working dir if required.\u001b[39;00m\n\u001b[1;32m   1400\u001b[0m \u001b[38;5;28;01mif\u001b[39;00m \u001b[38;5;129;01mnot\u001b[39;00m osp\u001b[38;5;241m.\u001b[39misabs(path):\n",
      "File \u001b[0;32m~/anaconda3/envs/my-environment/lib/python3.8/site-packages/git/util.py:504\u001b[0m, in \u001b[0;36mfinalize_process\u001b[0;34m(proc, **kwargs)\u001b[0m\n\u001b[1;32m    501\u001b[0m \u001b[38;5;250m\u001b[39m\u001b[38;5;124;03m\"\"\"Wait for the process (clone, fetch, pull or push) and handle its errors\u001b[39;00m\n\u001b[1;32m    502\u001b[0m \u001b[38;5;124;03maccordingly.\"\"\"\u001b[39;00m\n\u001b[1;32m    503\u001b[0m \u001b[38;5;66;03m# TODO: No close proc-streams??\u001b[39;00m\n\u001b[0;32m--> 504\u001b[0m \u001b[43mproc\u001b[49m\u001b[38;5;241;43m.\u001b[39;49m\u001b[43mwait\u001b[49m\u001b[43m(\u001b[49m\u001b[38;5;241;43m*\u001b[39;49m\u001b[38;5;241;43m*\u001b[39;49m\u001b[43mkwargs\u001b[49m\u001b[43m)\u001b[49m\n",
      "File \u001b[0;32m~/anaconda3/envs/my-environment/lib/python3.8/site-packages/git/cmd.py:834\u001b[0m, in \u001b[0;36mGit.AutoInterrupt.wait\u001b[0;34m(self, stderr)\u001b[0m\n\u001b[1;32m    832\u001b[0m     errstr \u001b[38;5;241m=\u001b[39m read_all_from_possibly_closed_stream(p_stderr)\n\u001b[1;32m    833\u001b[0m     _logger\u001b[38;5;241m.\u001b[39mdebug(\u001b[38;5;124m\"\u001b[39m\u001b[38;5;124mAutoInterrupt wait stderr: \u001b[39m\u001b[38;5;132;01m%r\u001b[39;00m\u001b[38;5;124m\"\u001b[39m \u001b[38;5;241m%\u001b[39m (errstr,))\n\u001b[0;32m--> 834\u001b[0m     \u001b[38;5;28;01mraise\u001b[39;00m GitCommandError(remove_password_if_present(\u001b[38;5;28mself\u001b[39m\u001b[38;5;241m.\u001b[39margs), status, errstr)\n\u001b[1;32m    835\u001b[0m \u001b[38;5;28;01mreturn\u001b[39;00m status\n",
      "\u001b[0;31mGitCommandError\u001b[0m: Cmd('git') failed due to: exit code(128)\n  cmdline: git clone -v -- https://github.com/mdn/dom-examples cloned_repos/JavaScript/dom-examples\n  stderr: 'Cloning into 'cloned_repos/JavaScript/dom-examples'...\nPOST git-upload-pack (175 bytes)\nPOST git-upload-pack (217 bytes)\nerror: RPC failed; curl 92 HTTP/2 stream 0 was not closed cleanly: CANCEL (err 8)\nerror: 6420 bytes of body are still expected\nfetch-pack: unexpected disconnect while reading sideband packet\nfatal: early EOF\nfatal: fetch-pack: invalid index-pack output\n'"
     ]
    }
   ],
   "source": [
    "clone(links)"
   ]
  },
  {
   "cell_type": "markdown",
   "id": "776cd48b-aeaa-49aa-9b2a-a9ab4e663fe4",
   "metadata": {},
   "source": [
    "Создаем датасет, преобразуем текст(удалим ссылки и пунктуацию, но вместо точек в огромной строке слов (после препроцессинга) будет пробел, ибо иначе слова будут склеиваться (по типу nltk.stem.porter)), делаем стэмминг/лемматизацию:"
   ]
  },
  {
   "cell_type": "code",
   "execution_count": null,
   "id": "2488524a-45e6-46d7-adf1-8f2ffcbf2a07",
   "metadata": {},
   "outputs": [],
   "source": [
    "chunk = 4096\n",
    "\n",
    "data = []\n",
    "\n",
    "for (path, files, lst_of_files_names) in walk('cloned_repos'):\n",
    "    if lst_of_files_names:\n",
    "        creating_dataset(path=path, files=lst_of_files_names, chunk=chunk, data = data)\n",
    "\n",
    "columns = [\"language\", \"code\"]\n",
    "df = pd.DataFrame(data, columns=columns)\n",
    "\n",
    "df[\"L_code\"] = df[\"code\"].apply(applying_lemmatization)\n",
    "df[\"S_code\"] = df[\"code\"].apply(applying_stemming)"
   ]
  },
  {
   "cell_type": "code",
   "execution_count": null,
   "id": "f0309ce5-997a-46c0-83db-6974c98799eb",
   "metadata": {},
   "outputs": [],
   "source": [
    "print(df)"
   ]
  },
  {
   "cell_type": "code",
   "execution_count": null,
   "id": "645afc43-d74f-4346-9ee3-6527c0f96d97",
   "metadata": {},
   "outputs": [],
   "source": [
    "print(df.groupby('language')['code'].nunique())"
   ]
  },
  {
   "cell_type": "markdown",
   "id": "18e9a884-aef1-4d24-a563-725b71ac2c98",
   "metadata": {},
   "source": [
    "Будем использовать TF-IDF. Обучим, сравним результаты на метрике f1(поскольку имеем дисбаланс классов):"
   ]
  },
  {
   "cell_type": "code",
   "execution_count": null,
   "id": "6179a21f-a9a4-4cf4-9cef-18b9b00d1e2b",
   "metadata": {},
   "outputs": [],
   "source": [
    "warnings.filterwarnings(\"ignore\", category=UserWarning) #чтобы не всплывал ConvergenceWarning\n",
    "x_train, x_test, y_train, y_test = train_test_split(df[\"L_code\"], df[\"language\"], train_size=0.8)\n",
    "vectorizer = TfidfVectorizer()\n",
    "x_train = vectorizer.fit_transform(x_train)\n",
    "x_test = vectorizer.transform(x_test)\n",
    "model = LogisticRegression()\n",
    "model.fit(x_train, y_train)\n",
    "prediction = model.predict(x_test)\n",
    "print(\"lemmatization:\", f1_score(prediction, y_test, average=\"weighted\"))"
   ]
  },
  {
   "cell_type": "code",
   "execution_count": null,
   "id": "c6fd8cbb-88e7-43cc-9695-0eaac2acf72c",
   "metadata": {},
   "outputs": [],
   "source": [
    "x_train, x_test, y_train, y_test = train_test_split(df[\"S_code\"], df[\"language\"], train_size=0.8)\n",
    "x_train = vectorizer.fit_transform(x_train)\n",
    "x_test = vectorizer.transform(x_test)\n",
    "model.fit(x_train, y_train)\n",
    "prediction = model.predict(x_test)\n",
    "print(\"stemming\", f1_score(prediction, y_test, average=\"weighted\"))"
   ]
  },
  {
   "cell_type": "markdown",
   "id": "f0742d68-cbce-4aa5-a996-d76597c82f1c",
   "metadata": {},
   "source": [
    "Результаты получились хорошими, лемматизация показала себя лучше стэмминга. Результаты такие, возможно, потому, что данные 3 языка сильно отличаются. Также, скорее всего, повлияла правильная обработка точки(если ее удалять вместе со всей пунктуацией и не ставить вместо нее пробел, то при импортах слова будут склеиваться)."
   ]
  },
  {
   "cell_type": "markdown",
   "id": "a0e5ef9a-a26c-4731-b932-914a625888dd",
   "metadata": {},
   "source": [
    "2. Medium"
   ]
  },
  {
   "cell_type": "markdown",
   "id": "16991f20-7231-4e4f-a24d-0f819862db8d",
   "metadata": {},
   "source": [
    "Делаем то же самое, что и в Easy; добавим 7 языков:"
   ]
  },
  {
   "cell_type": "code",
   "execution_count": null,
   "id": "0c3245cc-70b9-490d-89e4-5b8031cc5b5f",
   "metadata": {},
   "outputs": [],
   "source": [
    "links = {\n",
    "    \"C++\":[\n",
    "        \"https://github.com/adah1972/geek_time_cpp\",\n",
    "        \"https://github.com/AlohaWorld/CppKid\",\n",
    "        \"https://github.com/leovandriel/caffe2_cpp_tutorial\",\n",
    "        \"https://github.com/srcmake/cpp-stl-algorithms\",\n",
    "        \"https://github.com/JamesRaynard/Multithreading-Cpp-Course\",    \n",
    "    ],\n",
    "    \"Python\":[\n",
    "        \"https://github.com/cosmicpython/code\",\n",
    "        \"https://github.com/fluentpython/example-code-2e\",\n",
    "        \"https://github.com/hjwp/book-example\",\n",
    "        \"https://github.com/trekhleb/learn-python\",\n",
    "        \"https://github.com/davidbombal/pythonvideos\",\n",
    "        \"https://github.com/sobolevn/python-code-disasters\",\n",
    "        \"https://github.com/adaptives/python-examples\",\n",
    "    ],\n",
    "    \"JavaScript\":[\n",
    "        \"https://github.com/shama/letswritecode\",\n",
    "        \"https://github.com/jhu-ep-coursera/fullstack-course4\",\n",
    "        \"https://github.com/mdn/js-examples\",\n",
    "        \"https://github.com/mdn/dom-examples\",\n",
    "        \"https://github.com/bahmutov/javascript-journey\",\n",
    "        \"https://github.com/davidflanagan/jstdg7\",\n",
    "        \"https://github.com/mongodb-developer/mern-stack-example\",\n",
    "    ],\n",
    "    \"Java\":[\n",
    "        \"https://github.com/BruceEckel/OnJava8-Examples\",\n",
    "        \"https://github.com/marhan/effective-java-examples\",\n",
    "        \"https://github.com/vladmihalcea/high-performance-java-persistence\",\n",
    "        \"https://github.com/attacomsian/code-examples\",\n",
    "        \"https://github.com/mark-watson/Java-AI-Book-Code\",\n",
    "        \"https://github.com/afsalashyana/JavaFX-Tutorial-Codes\"\n",
    "    ],\n",
    "    \"Yaml\":[\n",
    "        \"https://github.com/Tej-Singh-Rana/k8s-test\",\n",
    "        \"https://github.com/d-led/gocd_docker_compose_example\",\n",
    "        \"https://github.com/redhat-nfvpe/vdpa-deployment\",\n",
    "        \"https://github.com/redhat-cop/aap_configuration_template\",\n",
    "        \"https://github.com/89luca89/terrible\",\n",
    "        \"https://github.com/starcraft66/infrastructure\",\n",
    "        \"https://github.com/fititnt/infrastructure-as-code-ad-hoc-ansible\"\n",
    "    ],\n",
    "    \"Bash\":[\n",
    "        \"https://github.com/vossenjp/bashcookbook-examples\",\n",
    "        \"https://github.com/docusign/code-examples-bash\",\n",
    "        \"https://github.com/yafraorg/yafra\",\n",
    "        \"https://github.com/particleflux/kcov-bats-circleci-codeclimate\",\n",
    "        \"https://github.com/antrosgeor/Bash-Code-Example\",\n",
    "        \"https://github.com/jhomer-hscl/example-bash-codespace\",\n",
    "        \"https://github.com/kevendi/codecademy_bash_examples\"\n",
    "    ],\n",
    "    \"Markdown\":[\n",
    "        \"https://github.com/bananananacat/MBTI_Analysis\",\n",
    "        \"https://github.com/mjbvz/vscode-fenced-code-block-grammar-injection-example\",\n",
    "        \"https://github.com/anko/txm\",\n",
    "        \"https://github.com/adambard/learnxinyminutes-docs\",\n",
    "        \"https://github.com/microsoft/vscode-docs\",\n",
    "        \"https://github.com/SAP/styleguides\",\n",
    "        \"https://github.com/Your-First-Open-Source-Project/start-here\"\n",
    "    ],\n",
    "    \"C\":[\n",
    "        \"https://github.com/tsnsoft/CodeLite_wxWidgets_Div2_demo\",\n",
    "        \"https://github.com/tsnsoft/CodeBlocks_blank_prject\",\n",
    "        \"https://github.com/jgamblin/Mirai-Source-Code\",\n",
    "        \"https://github.com/yanfeizhang/coder-kung-fu\"\n",
    "        \"https://github.com/tsnsoft/CodeLite_Table_demo\",\n",
    "        \"https://github.com/tsnsoft/CodeLite_wxWidgets_demo\",\n",
    "        \"https://github.com/tsnsoft/wxwidgets_demo-linux\"\n",
    "    ],\n",
    "    \"Kotlin\":[\n",
    "        \"https://github.com/funfunStory/fp-kotlin-example\",\n",
    "        \"https://github.com/Foso/Jetpack-Compose-Playground\",\n",
    "        \"https://github.com/aws-samples/lambda-kotlin-groovy-example\",\n",
    "        \"https://github.com/java-to-kotlin/code\",\n",
    "        \"https://github.com/android/codelab-android-compose\",\n",
    "        \"https://github.com/loopeer/code-reader\",\n",
    "        \"https://github.com/android/codelab-android-paging\"\n",
    "    ],\n",
    "    \"Haskell\":[\n",
    "        \"https://github.com/bravit/hid-examples\",\n",
    "        \"https://github.com/simonmar/parconc-examples\",\n",
    "        \"https://github.com/mark-watson/haskell_tutorial_cookbook_examples\",\n",
    "        \"https://github.com/palf/haskell-sdl2-examples\",\n",
    "        \"https://github.com/reflex-frp/reflex-examples\",\n",
    "        \"https://github.com/thma/WhyHaskellMatters\",\n",
    "        \"https://github.com/haskell/stylish-haskell\"\n",
    "    ]\n",
    "}\n",
    "\n",
    "file_endings = {\n",
    "    \"cpp\": \"C++\",\n",
    "    \"hpp\": \"C++\",\n",
    "    \"py\": \"Python\",\n",
    "    \"js\": \"JavaScript\",\n",
    "    \"java\": \"Java\",\n",
    "    \"yaml\": \"Yaml\",\n",
    "    \"sh\": \"Bash\",\n",
    "    \"md\": \"Markdown\",\n",
    "    \"h\": \"C\",\n",
    "    \"c\": \"C\",\n",
    "    \"kt\": \"Kotlin\",\n",
    "    \"hs\": \"Haskell\"\n",
    "}"
   ]
  },
  {
   "cell_type": "markdown",
   "id": "20f509a5-4854-4d1b-b391-116a6ec6161f",
   "metadata": {},
   "source": [
    "Клонируем репозитории тех языков, для которых не были склонированы в Easy:"
   ]
  },
  {
   "cell_type": "code",
   "execution_count": null,
   "id": "834fe243-8e55-4684-9997-70e4a3217d92",
   "metadata": {},
   "outputs": [],
   "source": [
    "new_links = {lang: code for lang, code in links.items() if lang not in [\"C++\", \"Python\", \"JavaScript\"]}\n",
    "clone(new_links)"
   ]
  },
  {
   "cell_type": "markdown",
   "id": "5c67f6bb-d537-40c0-8603-7b87129e4b20",
   "metadata": {},
   "source": [
    "Далее все аналогично 1 заданию:"
   ]
  },
  {
   "cell_type": "code",
   "execution_count": null,
   "id": "56a91486-ff53-4927-ad0d-a5b3a9621891",
   "metadata": {},
   "outputs": [],
   "source": [
    "chunk = 4096\n",
    "\n",
    "data = []\n",
    "\n",
    "for (path, files, lst_of_files_names) in walk('cloned_repos'):\n",
    "    if lst_of_files_names:\n",
    "        creating_dataset(path=path, files=lst_of_files_names, chunk=chunk, data = data)\n",
    "\n",
    "columns = [\"language\", \"code\"]\n",
    "df = pd.DataFrame(data, columns=columns)\n",
    "\n",
    "df[\"L_code\"] = df[\"code\"].apply(applying_lemmatization)\n",
    "df[\"S_code\"] = df[\"code\"].apply(applying_stemming)\n",
    "print(df)"
   ]
  },
  {
   "cell_type": "code",
   "execution_count": null,
   "id": "8d68a0f9-24d4-4884-8e49-a6add65b40aa",
   "metadata": {},
   "outputs": [],
   "source": [
    "print(df.groupby('language')['code'].nunique())"
   ]
  },
  {
   "cell_type": "code",
   "execution_count": null,
   "id": "022f62c2-f9ba-46ec-85ba-853cdbc069ae",
   "metadata": {},
   "outputs": [],
   "source": [
    "warnings.filterwarnings(\"ignore\", category=UserWarning) #чтобы не всплывал ConvergenceWarning\n",
    "x_train, x_test, y_train, y_test = train_test_split(df[\"L_code\"], df[\"language\"], train_size=0.8)\n",
    "vectorizer = TfidfVectorizer()\n",
    "x_train = vectorizer.fit_transform(x_train)\n",
    "x_test = vectorizer.transform(x_test)\n",
    "model = LogisticRegression()\n",
    "model.fit(x_train, y_train)\n",
    "prediction = model.predict(x_test)\n",
    "print(\"lemmatization:\", f1_score(prediction, y_test, average=\"weighted\"))"
   ]
  },
  {
   "cell_type": "code",
   "execution_count": null,
   "id": "def7d0de-6197-4acb-b41a-7127c8ecf8da",
   "metadata": {},
   "outputs": [],
   "source": [
    "x_train, x_test, y_train, y_test = train_test_split(df[\"S_code\"], df[\"language\"], train_size=0.8)\n",
    "x_train = vectorizer.fit_transform(x_train)\n",
    "x_test = vectorizer.transform(x_test)\n",
    "model.fit(x_train, y_train)\n",
    "prediction = model.predict(x_test)\n",
    "print(\"stemming\", f1_score(prediction, y_test, average=\"weighted\"))"
   ]
  },
  {
   "cell_type": "markdown",
   "id": "9ff36462-a69d-4d75-8c84-22f2158ce5b0",
   "metadata": {},
   "source": [
    "Результаты:"
   ]
  }
 ],
 "metadata": {
  "kernelspec": {
   "display_name": "Python 3 (ipykernel)",
   "language": "python",
   "name": "python3"
  },
  "language_info": {
   "codemirror_mode": {
    "name": "ipython",
    "version": 3
   },
   "file_extension": ".py",
   "mimetype": "text/x-python",
   "name": "python",
   "nbconvert_exporter": "python",
   "pygments_lexer": "ipython3",
   "version": "3.8.18"
  }
 },
 "nbformat": 4,
 "nbformat_minor": 5
}
